{
  "nbformat": 4,
  "nbformat_minor": 0,
  "metadata": {
    "colab": {
      "provenance": [],
      "authorship_tag": "ABX9TyN5J/ZkTU8scGNgdnjyBryd",
      "include_colab_link": true
    },
    "kernelspec": {
      "name": "python3",
      "display_name": "Python 3"
    },
    "language_info": {
      "name": "python"
    }
  },
  "cells": [
    {
      "cell_type": "markdown",
      "metadata": {
        "id": "view-in-github",
        "colab_type": "text"
      },
      "source": [
        "<a href=\"https://colab.research.google.com/github/G-Haripriya10/B1_PFDS_1104/blob/main/Untitled3.ipynb\" target=\"_parent\"><img src=\"https://colab.research.google.com/assets/colab-badge.svg\" alt=\"Open In Colab\"/></a>"
      ]
    },
    {
      "cell_type": "code",
      "execution_count": null,
      "metadata": {
        "colab": {
          "base_uri": "https://localhost:8080/"
        },
        "id": "w6nC_TI1txxW",
        "outputId": "2193d2ac-2361-43fd-c105-83a1a97da2a9"
      },
      "outputs": [
        {
          "output_type": "stream",
          "name": "stdout",
          "text": [
            "data written\n"
          ]
        }
      ],
      "source": [
        "file = open(\"example.txt\", \"w\")\n",
        "file.write(\"Hello, B.Tecch!\\n\")\n",
        "file.write(\"This is file\")\n",
        "file.write(\"cse!\\n\")\n",
        "file.close()\n",
        "print(\"data written\")"
      ]
    },
    {
      "cell_type": "code",
      "source": [
        "file = open(\"example.txt\", \"r\")\n",
        "content = file.read()\n",
        "print(\"File Content:\\n\", content)\n",
        "file.close()"
      ],
      "metadata": {
        "colab": {
          "base_uri": "https://localhost:8080/"
        },
        "id": "iCQnIAijun-z",
        "outputId": "f22ccb18-0dea-4ec8-fba9-1072af4f0976"
      },
      "execution_count": null,
      "outputs": [
        {
          "output_type": "stream",
          "name": "stdout",
          "text": [
            "File Content:\n",
            " Hello, B.Tecch!\n",
            "This is filecse!\n",
            "\n"
          ]
        }
      ]
    },
    {
      "cell_type": "code",
      "source": [
        "file = open(\"example.txt\", \"r\")\n",
        "line1 = file.readline()\n",
        "print(\"First Line\", line1)\n",
        "line2 = file.readlines()\n",
        "print(\"Second Line\", line2)\n",
        "line3 = file.readlines()\n",
        "print(\"Third Line\", line3)\n"
      ],
      "metadata": {
        "colab": {
          "base_uri": "https://localhost:8080/"
        },
        "id": "Z4FMHfUVvuch",
        "outputId": "9fcaca14-e9b4-4e78-b569-90ecde16dfd3"
      },
      "execution_count": null,
      "outputs": [
        {
          "output_type": "stream",
          "name": "stdout",
          "text": [
            "First Line Hello, B.Tecch!\n",
            "\n",
            "Second Line ['This is filecse!\\n']\n",
            "Third Line []\n"
          ]
        }
      ]
    },
    {
      "cell_type": "code",
      "source": [
        "file = open(\"example.txt\", \"r\")\n",
        "lines = file.readlines()\n",
        "print(\"All Lines as List:\", lines)\n",
        "file.close()\n"
      ],
      "metadata": {
        "colab": {
          "base_uri": "https://localhost:8080/"
        },
        "id": "jU8PqYycxFKj",
        "outputId": "60182474-1fb1-470b-d5e9-08186e576281"
      },
      "execution_count": null,
      "outputs": [
        {
          "output_type": "stream",
          "name": "stdout",
          "text": [
            "All Lines as List: ['Hello, B.Tecch!\\n', 'This is filecse!\\n']\n"
          ]
        }
      ]
    },
    {
      "cell_type": "code",
      "source": [
        "file = open(\"example.txt\", \"a\")\n",
        "file.write(\"Appending new data...\\n\")\n",
        "file.close()"
      ],
      "metadata": {
        "id": "sVFZSviJxbJ_"
      },
      "execution_count": null,
      "outputs": []
    },
    {
      "cell_type": "code",
      "source": [
        "with open(\"example.txt\", \"r\") as fp:\n",
        "  data = fp.read()\n",
        "  print(data)"
      ],
      "metadata": {
        "colab": {
          "base_uri": "https://localhost:8080/"
        },
        "id": "i-vlxMJjx8NR",
        "outputId": "8991d9f9-2ad1-4d5e-f882-529bc13fd165"
      },
      "execution_count": null,
      "outputs": [
        {
          "output_type": "stream",
          "name": "stdout",
          "text": [
            "Hello, B.Tecch!\n",
            "This is filecse:\n",
            "Appending new data...\n",
            "\n"
          ]
        }
      ]
    },
    {
      "cell_type": "code",
      "source": [
        "import csv\n",
        "\n",
        "with open(\"data.csv\", \"w\", newline='') as fp:\n",
        "  wr = csv.writer(fp)\n",
        "  wr.writerow([\"Name\", \"Age\", \"Course\"])\n",
        "  wr.writerow([\"aaa\", 21, \"CSE\"])\n",
        "  wr.writerow([\"bbb\", 20, \"ECE\"])"
      ],
      "metadata": {
        "id": "4Yr7k4HCykc_"
      },
      "execution_count": null,
      "outputs": []
    },
    {
      "cell_type": "code",
      "source": [
        "with open(\"data.csv\", \"r\") as file:\n",
        "  re = csv.reader(file)\n",
        "  for row in re:\n",
        "    print(row)"
      ],
      "metadata": {
        "colab": {
          "base_uri": "https://localhost:8080/"
        },
        "id": "pA3RbF12zq5u",
        "outputId": "cd3985bb-631b-4fb4-8874-d944dd60ea9a"
      },
      "execution_count": null,
      "outputs": [
        {
          "output_type": "stream",
          "name": "stdout",
          "text": [
            "['Name', 'Age', 'Course']\n",
            "['aaa', '21', 'CSE']\n",
            "['bbb', '20', 'ECE']\n"
          ]
        }
      ]
    },
    {
      "cell_type": "code",
      "source": [
        "import csv\n",
        "with open(\"data.csv\",\"w\",newline='')as file:\n",
        "  wr = csv.writer(file)\n",
        "  for i in range(3):\n",
        "    name=input(\"enter a name\")\n",
        "    marks=int(input(\"enter marks\"))\n",
        "    wr.writerow([name,marks])"
      ],
      "metadata": {
        "colab": {
          "base_uri": "https://localhost:8080/"
        },
        "id": "iqbRB4x86Mas",
        "outputId": "581afb04-e2dd-4c1d-ba02-4050c6444fdb"
      },
      "execution_count": null,
      "outputs": [
        {
          "name": "stdout",
          "output_type": "stream",
          "text": [
            "enter a namehari priya\n",
            "enter marks40\n",
            "enter a namesrija\n",
            "enter marks60\n",
            "enter a namekavya\n",
            "enter marks50\n"
          ]
        }
      ]
    }
  ]
}